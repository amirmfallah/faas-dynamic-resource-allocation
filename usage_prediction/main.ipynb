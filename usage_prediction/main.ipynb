{
 "cells": [
  {
   "cell_type": "code",
   "execution_count": 458,
   "metadata": {},
   "outputs": [],
   "source": [
    "import pandas as pd\n",
    "import numpy as np\n",
    "import math\n",
    "\n",
    "from sklearn.preprocessing import StandardScaler\n",
    "from sklearn.model_selection import train_test_split"
   ]
  },
  {
   "cell_type": "code",
   "execution_count": 459,
   "metadata": {},
   "outputs": [],
   "source": [
    "mem_usage_df = pd.DataFrame(pd.read_csv(\"./datasets/memory_usage.csv\")[\"mem_usage\"])\n",
    "cpu_usage_df = pd.DataFrame(pd.read_csv(\"./datasets/cpu_usage.csv\")[\"cpu_usage\"])"
   ]
  },
  {
   "cell_type": "code",
   "execution_count": 460,
   "metadata": {},
   "outputs": [],
   "source": [
    "usage_df = pd.concat([mem_usage_df, cpu_usage_df], axis=1)"
   ]
  },
  {
   "cell_type": "code",
   "execution_count": 461,
   "metadata": {},
   "outputs": [
    {
     "data": {
      "text/html": [
       "<div>\n",
       "<style scoped>\n",
       "    .dataframe tbody tr th:only-of-type {\n",
       "        vertical-align: middle;\n",
       "    }\n",
       "\n",
       "    .dataframe tbody tr th {\n",
       "        vertical-align: top;\n",
       "    }\n",
       "\n",
       "    .dataframe thead th {\n",
       "        text-align: right;\n",
       "    }\n",
       "</style>\n",
       "<table border=\"1\" class=\"dataframe\">\n",
       "  <thead>\n",
       "    <tr style=\"text-align: right;\">\n",
       "      <th></th>\n",
       "      <th>mem_usage</th>\n",
       "      <th>cpu_usage</th>\n",
       "    </tr>\n",
       "  </thead>\n",
       "  <tbody>\n",
       "    <tr>\n",
       "      <th>count</th>\n",
       "      <td>1.111000e+03</td>\n",
       "      <td>1111.000000</td>\n",
       "    </tr>\n",
       "    <tr>\n",
       "      <th>mean</th>\n",
       "      <td>7.123128e+06</td>\n",
       "      <td>0.008101</td>\n",
       "    </tr>\n",
       "    <tr>\n",
       "      <th>std</th>\n",
       "      <td>9.949669e+05</td>\n",
       "      <td>0.004616</td>\n",
       "    </tr>\n",
       "    <tr>\n",
       "      <th>min</th>\n",
       "      <td>5.050368e+06</td>\n",
       "      <td>0.001054</td>\n",
       "    </tr>\n",
       "    <tr>\n",
       "      <th>25%</th>\n",
       "      <td>7.352320e+06</td>\n",
       "      <td>0.003012</td>\n",
       "    </tr>\n",
       "    <tr>\n",
       "      <th>50%</th>\n",
       "      <td>7.528448e+06</td>\n",
       "      <td>0.008684</td>\n",
       "    </tr>\n",
       "    <tr>\n",
       "      <th>75%</th>\n",
       "      <td>7.757824e+06</td>\n",
       "      <td>0.011573</td>\n",
       "    </tr>\n",
       "    <tr>\n",
       "      <th>max</th>\n",
       "      <td>7.999488e+06</td>\n",
       "      <td>0.018026</td>\n",
       "    </tr>\n",
       "  </tbody>\n",
       "</table>\n",
       "</div>"
      ],
      "text/plain": [
       "          mem_usage    cpu_usage\n",
       "count  1.111000e+03  1111.000000\n",
       "mean   7.123128e+06     0.008101\n",
       "std    9.949669e+05     0.004616\n",
       "min    5.050368e+06     0.001054\n",
       "25%    7.352320e+06     0.003012\n",
       "50%    7.528448e+06     0.008684\n",
       "75%    7.757824e+06     0.011573\n",
       "max    7.999488e+06     0.018026"
      ]
     },
     "execution_count": 461,
     "metadata": {},
     "output_type": "execute_result"
    }
   ],
   "source": [
    "usage_df.describe()"
   ]
  },
  {
   "cell_type": "code",
   "execution_count": 462,
   "metadata": {},
   "outputs": [],
   "source": [
    "scaler = StandardScaler()\n",
    "scaler.fit(usage_df)\n",
    "usage_df = scaler.transform(usage_df)"
   ]
  },
  {
   "cell_type": "code",
   "execution_count": 478,
   "metadata": {},
   "outputs": [
    {
     "data": {
      "text/html": [
       "<div>\n",
       "<style scoped>\n",
       "    .dataframe tbody tr th:only-of-type {\n",
       "        vertical-align: middle;\n",
       "    }\n",
       "\n",
       "    .dataframe tbody tr th {\n",
       "        vertical-align: top;\n",
       "    }\n",
       "\n",
       "    .dataframe thead th {\n",
       "        text-align: right;\n",
       "    }\n",
       "</style>\n",
       "<table border=\"1\" class=\"dataframe\">\n",
       "  <thead>\n",
       "    <tr style=\"text-align: right;\">\n",
       "      <th></th>\n",
       "      <th>0</th>\n",
       "      <th>1</th>\n",
       "    </tr>\n",
       "  </thead>\n",
       "  <tbody>\n",
       "    <tr>\n",
       "      <th>0</th>\n",
       "      <td>-1.989457</td>\n",
       "      <td>-1.409124</td>\n",
       "    </tr>\n",
       "    <tr>\n",
       "      <th>1</th>\n",
       "      <td>-1.989457</td>\n",
       "      <td>-1.411753</td>\n",
       "    </tr>\n",
       "    <tr>\n",
       "      <th>2</th>\n",
       "      <td>-1.989457</td>\n",
       "      <td>-1.411753</td>\n",
       "    </tr>\n",
       "    <tr>\n",
       "      <th>3</th>\n",
       "      <td>-1.989457</td>\n",
       "      <td>-1.411753</td>\n",
       "    </tr>\n",
       "    <tr>\n",
       "      <th>4</th>\n",
       "      <td>-1.989457</td>\n",
       "      <td>-1.416867</td>\n",
       "    </tr>\n",
       "  </tbody>\n",
       "</table>\n",
       "</div>"
      ],
      "text/plain": [
       "          0         1\n",
       "0 -1.989457 -1.409124\n",
       "1 -1.989457 -1.411753\n",
       "2 -1.989457 -1.411753\n",
       "3 -1.989457 -1.411753\n",
       "4 -1.989457 -1.416867"
      ]
     },
     "execution_count": 478,
     "metadata": {},
     "output_type": "execute_result"
    }
   ],
   "source": [
    "pd.DataFrame(usage_df).head()"
   ]
  },
  {
   "cell_type": "code",
   "execution_count": 463,
   "metadata": {},
   "outputs": [],
   "source": [
    "def series_to_supervised(data, n_in=1, n_out=1, dropnan=True):\n",
    "\t\"\"\"\n",
    "\tFrame a time series as a supervised learning dataset.\n",
    "\tArguments:\n",
    "\t\tdata: Sequence of observations as a list or NumPy array.\n",
    "\t\tn_in: Number of lag observations as input (X).\n",
    "\t\tn_out: Number of observations as output (y).\n",
    "\t\tdropnan: Boolean whether or not to drop rows with NaN values.\n",
    "\tReturns:\n",
    "\t\tPandas DataFrame of series framed for supervised learning.\n",
    "\t\"\"\"\n",
    "\tn_vars = 1 if type(data) is list else data.shape[1]\n",
    "\tdf = pd.DataFrame(data)\n",
    "\tcols, names = list(), list()\n",
    "\t# input sequence (t-n, ... t-1)\n",
    "\tfor i in range(n_in, 0, -1):\n",
    "\t\tcols.append(df.shift(i))\n",
    "\t\tnames += [('var%d(t-%d)' % (j+1, i)) for j in range(n_vars)]\n",
    "\t# forecast sequence (t, t+1, ... t+n)\n",
    "\tfor i in range(0, n_out):\n",
    "\t\tcols.append(df.shift(-i))\n",
    "\t\tif i == 0:\n",
    "\t\t\tnames += [('var%d(t)' % (j+1)) for j in range(n_vars)]\n",
    "\t\telse:\n",
    "\t\t\tnames += [('var%d(t+%d)' % (j+1, i)) for j in range(n_vars)]\n",
    "\t# put it all together\n",
    "\tagg = pd.concat(cols, axis=1)\n",
    "\tagg.columns = names\n",
    "\t# drop rows with NaN values\n",
    "\tif dropnan:\n",
    "\t\tagg.dropna(inplace=True)\n",
    "\treturn agg"
   ]
  },
  {
   "cell_type": "code",
   "execution_count": 464,
   "metadata": {},
   "outputs": [],
   "source": [
    "# specify the number of lag hours\n",
    "n_cycles = 3\n",
    "n_features = 2\n",
    "# frame as supervised learning\n",
    "reframed = series_to_supervised(usage_df, n_cycles, 1)"
   ]
  },
  {
   "cell_type": "code",
   "execution_count": 465,
   "metadata": {},
   "outputs": [
    {
     "data": {
      "text/html": [
       "<div>\n",
       "<style scoped>\n",
       "    .dataframe tbody tr th:only-of-type {\n",
       "        vertical-align: middle;\n",
       "    }\n",
       "\n",
       "    .dataframe tbody tr th {\n",
       "        vertical-align: top;\n",
       "    }\n",
       "\n",
       "    .dataframe thead th {\n",
       "        text-align: right;\n",
       "    }\n",
       "</style>\n",
       "<table border=\"1\" class=\"dataframe\">\n",
       "  <thead>\n",
       "    <tr style=\"text-align: right;\">\n",
       "      <th></th>\n",
       "      <th>var1(t-3)</th>\n",
       "      <th>var2(t-3)</th>\n",
       "      <th>var1(t-2)</th>\n",
       "      <th>var2(t-2)</th>\n",
       "      <th>var1(t-1)</th>\n",
       "      <th>var2(t-1)</th>\n",
       "      <th>var1(t)</th>\n",
       "      <th>var2(t)</th>\n",
       "    </tr>\n",
       "  </thead>\n",
       "  <tbody>\n",
       "    <tr>\n",
       "      <th>3</th>\n",
       "      <td>-1.989457</td>\n",
       "      <td>-1.409124</td>\n",
       "      <td>-1.989457</td>\n",
       "      <td>-1.411753</td>\n",
       "      <td>-1.989457</td>\n",
       "      <td>-1.411753</td>\n",
       "      <td>-1.989457</td>\n",
       "      <td>-1.411753</td>\n",
       "    </tr>\n",
       "    <tr>\n",
       "      <th>4</th>\n",
       "      <td>-1.989457</td>\n",
       "      <td>-1.411753</td>\n",
       "      <td>-1.989457</td>\n",
       "      <td>-1.411753</td>\n",
       "      <td>-1.989457</td>\n",
       "      <td>-1.411753</td>\n",
       "      <td>-1.989457</td>\n",
       "      <td>-1.416867</td>\n",
       "    </tr>\n",
       "    <tr>\n",
       "      <th>5</th>\n",
       "      <td>-1.989457</td>\n",
       "      <td>-1.411753</td>\n",
       "      <td>-1.989457</td>\n",
       "      <td>-1.411753</td>\n",
       "      <td>-1.989457</td>\n",
       "      <td>-1.416867</td>\n",
       "      <td>-1.989457</td>\n",
       "      <td>-1.416867</td>\n",
       "    </tr>\n",
       "    <tr>\n",
       "      <th>6</th>\n",
       "      <td>-1.989457</td>\n",
       "      <td>-1.411753</td>\n",
       "      <td>-1.989457</td>\n",
       "      <td>-1.416867</td>\n",
       "      <td>-1.989457</td>\n",
       "      <td>-1.416867</td>\n",
       "      <td>-1.989457</td>\n",
       "      <td>-1.416867</td>\n",
       "    </tr>\n",
       "    <tr>\n",
       "      <th>7</th>\n",
       "      <td>-1.989457</td>\n",
       "      <td>-1.416867</td>\n",
       "      <td>-1.989457</td>\n",
       "      <td>-1.416867</td>\n",
       "      <td>-1.989457</td>\n",
       "      <td>-1.416867</td>\n",
       "      <td>-1.989457</td>\n",
       "      <td>-1.416867</td>\n",
       "    </tr>\n",
       "    <tr>\n",
       "      <th>...</th>\n",
       "      <td>...</td>\n",
       "      <td>...</td>\n",
       "      <td>...</td>\n",
       "      <td>...</td>\n",
       "      <td>...</td>\n",
       "      <td>...</td>\n",
       "      <td>...</td>\n",
       "      <td>...</td>\n",
       "    </tr>\n",
       "    <tr>\n",
       "      <th>1106</th>\n",
       "      <td>0.745277</td>\n",
       "      <td>-0.252471</td>\n",
       "      <td>0.745277</td>\n",
       "      <td>-0.252471</td>\n",
       "      <td>0.745277</td>\n",
       "      <td>-0.252471</td>\n",
       "      <td>0.745277</td>\n",
       "      <td>-0.516532</td>\n",
       "    </tr>\n",
       "    <tr>\n",
       "      <th>1107</th>\n",
       "      <td>0.745277</td>\n",
       "      <td>-0.252471</td>\n",
       "      <td>0.745277</td>\n",
       "      <td>-0.252471</td>\n",
       "      <td>0.745277</td>\n",
       "      <td>-0.516532</td>\n",
       "      <td>0.745277</td>\n",
       "      <td>-0.442634</td>\n",
       "    </tr>\n",
       "    <tr>\n",
       "      <th>1108</th>\n",
       "      <td>0.745277</td>\n",
       "      <td>-0.252471</td>\n",
       "      <td>0.745277</td>\n",
       "      <td>-0.516532</td>\n",
       "      <td>0.745277</td>\n",
       "      <td>-0.442634</td>\n",
       "      <td>0.745277</td>\n",
       "      <td>-0.527063</td>\n",
       "    </tr>\n",
       "    <tr>\n",
       "      <th>1109</th>\n",
       "      <td>0.745277</td>\n",
       "      <td>-0.516532</td>\n",
       "      <td>0.745277</td>\n",
       "      <td>-0.442634</td>\n",
       "      <td>0.745277</td>\n",
       "      <td>-0.527063</td>\n",
       "      <td>0.745277</td>\n",
       "      <td>-0.611491</td>\n",
       "    </tr>\n",
       "    <tr>\n",
       "      <th>1110</th>\n",
       "      <td>0.745277</td>\n",
       "      <td>-0.442634</td>\n",
       "      <td>0.745277</td>\n",
       "      <td>-0.527063</td>\n",
       "      <td>0.745277</td>\n",
       "      <td>-0.611491</td>\n",
       "      <td>0.745277</td>\n",
       "      <td>-0.695919</td>\n",
       "    </tr>\n",
       "  </tbody>\n",
       "</table>\n",
       "<p>1108 rows × 8 columns</p>\n",
       "</div>"
      ],
      "text/plain": [
       "      var1(t-3)  var2(t-3)  var1(t-2)  var2(t-2)  var1(t-1)  var2(t-1)  \\\n",
       "3     -1.989457  -1.409124  -1.989457  -1.411753  -1.989457  -1.411753   \n",
       "4     -1.989457  -1.411753  -1.989457  -1.411753  -1.989457  -1.411753   \n",
       "5     -1.989457  -1.411753  -1.989457  -1.411753  -1.989457  -1.416867   \n",
       "6     -1.989457  -1.411753  -1.989457  -1.416867  -1.989457  -1.416867   \n",
       "7     -1.989457  -1.416867  -1.989457  -1.416867  -1.989457  -1.416867   \n",
       "...         ...        ...        ...        ...        ...        ...   \n",
       "1106   0.745277  -0.252471   0.745277  -0.252471   0.745277  -0.252471   \n",
       "1107   0.745277  -0.252471   0.745277  -0.252471   0.745277  -0.516532   \n",
       "1108   0.745277  -0.252471   0.745277  -0.516532   0.745277  -0.442634   \n",
       "1109   0.745277  -0.516532   0.745277  -0.442634   0.745277  -0.527063   \n",
       "1110   0.745277  -0.442634   0.745277  -0.527063   0.745277  -0.611491   \n",
       "\n",
       "       var1(t)   var2(t)  \n",
       "3    -1.989457 -1.411753  \n",
       "4    -1.989457 -1.416867  \n",
       "5    -1.989457 -1.416867  \n",
       "6    -1.989457 -1.416867  \n",
       "7    -1.989457 -1.416867  \n",
       "...        ...       ...  \n",
       "1106  0.745277 -0.516532  \n",
       "1107  0.745277 -0.442634  \n",
       "1108  0.745277 -0.527063  \n",
       "1109  0.745277 -0.611491  \n",
       "1110  0.745277 -0.695919  \n",
       "\n",
       "[1108 rows x 8 columns]"
      ]
     },
     "execution_count": 465,
     "metadata": {},
     "output_type": "execute_result"
    }
   ],
   "source": [
    "reframed"
   ]
  },
  {
   "cell_type": "code",
   "execution_count": 466,
   "metadata": {},
   "outputs": [],
   "source": [
    "split_count = math.floor(len(reframed) * 0.67)\n",
    "values = reframed.values\n",
    "\n",
    "train = values[:split_count, :]\n",
    "test = values[split_count:, :]"
   ]
  },
  {
   "cell_type": "code",
   "execution_count": 467,
   "metadata": {},
   "outputs": [
    {
     "name": "stdout",
     "output_type": "stream",
     "text": [
      "(742, 6) 742 (742, 2)\n"
     ]
    }
   ],
   "source": [
    "# split into input and outputs\n",
    "n_obs = n_cycles * n_features\n",
    "train_X, train_y = train[:, :n_obs], train[:,-n_features:]\n",
    "test_X, test_y = test[:, :n_obs], test[:, -n_features:]\n",
    "print(train_X.shape, len(train_X), train_y.shape)"
   ]
  },
  {
   "cell_type": "code",
   "execution_count": 468,
   "metadata": {},
   "outputs": [],
   "source": [
    "train_X = train_X.reshape((train_X.shape[0], n_cycles, n_features))\n",
    "test_X = test_X.reshape((test_X.shape[0], n_cycles, n_features))"
   ]
  },
  {
   "cell_type": "code",
   "execution_count": 483,
   "metadata": {},
   "outputs": [],
   "source": [
    "from math import sqrt\n",
    "from matplotlib import pyplot\n",
    "from sklearn.metrics import mean_squared_error, mean_absolute_error\n",
    "from keras.models import Sequential\n",
    "from keras.layers import Dense\n",
    "from keras.layers import LSTM"
   ]
  },
  {
   "cell_type": "code",
   "execution_count": 470,
   "metadata": {},
   "outputs": [
    {
     "name": "stdout",
     "output_type": "stream",
     "text": [
      "Epoch 1/50\n",
      "11/11 - 2s - loss: 0.9660 - val_loss: 0.5887 - 2s/epoch - 225ms/step\n",
      "Epoch 2/50\n",
      "11/11 - 0s - loss: 0.8068 - val_loss: 0.4970 - 92ms/epoch - 8ms/step\n",
      "Epoch 3/50\n",
      "11/11 - 0s - loss: 0.6521 - val_loss: 0.3995 - 88ms/epoch - 8ms/step\n",
      "Epoch 4/50\n",
      "11/11 - 0s - loss: 0.4765 - val_loss: 0.2979 - 70ms/epoch - 6ms/step\n",
      "Epoch 5/50\n",
      "11/11 - 0s - loss: 0.2896 - val_loss: 0.2441 - 93ms/epoch - 8ms/step\n",
      "Epoch 6/50\n",
      "11/11 - 0s - loss: 0.2551 - val_loss: 0.2356 - 69ms/epoch - 6ms/step\n",
      "Epoch 7/50\n",
      "11/11 - 0s - loss: 0.2105 - val_loss: 0.2262 - 80ms/epoch - 7ms/step\n",
      "Epoch 8/50\n",
      "11/11 - 0s - loss: 0.1834 - val_loss: 0.2095 - 71ms/epoch - 6ms/step\n",
      "Epoch 9/50\n",
      "11/11 - 0s - loss: 0.1674 - val_loss: 0.2045 - 74ms/epoch - 7ms/step\n",
      "Epoch 10/50\n",
      "11/11 - 0s - loss: 0.1651 - val_loss: 0.1826 - 74ms/epoch - 7ms/step\n",
      "Epoch 11/50\n",
      "11/11 - 0s - loss: 0.1607 - val_loss: 0.1784 - 72ms/epoch - 7ms/step\n",
      "Epoch 12/50\n",
      "11/11 - 0s - loss: 0.1468 - val_loss: 0.1644 - 68ms/epoch - 6ms/step\n",
      "Epoch 13/50\n",
      "11/11 - 0s - loss: 0.1217 - val_loss: 0.1581 - 69ms/epoch - 6ms/step\n",
      "Epoch 14/50\n",
      "11/11 - 0s - loss: 0.1487 - val_loss: 0.1488 - 72ms/epoch - 7ms/step\n",
      "Epoch 15/50\n",
      "11/11 - 0s - loss: 0.1164 - val_loss: 0.1473 - 70ms/epoch - 6ms/step\n",
      "Epoch 16/50\n",
      "11/11 - 0s - loss: 0.1171 - val_loss: 0.1439 - 70ms/epoch - 6ms/step\n",
      "Epoch 17/50\n",
      "11/11 - 0s - loss: 0.1255 - val_loss: 0.1420 - 79ms/epoch - 7ms/step\n",
      "Epoch 18/50\n",
      "11/11 - 0s - loss: 0.1100 - val_loss: 0.1410 - 82ms/epoch - 7ms/step\n",
      "Epoch 19/50\n",
      "11/11 - 0s - loss: 0.1173 - val_loss: 0.1400 - 69ms/epoch - 6ms/step\n",
      "Epoch 20/50\n",
      "11/11 - 0s - loss: 0.1165 - val_loss: 0.1387 - 72ms/epoch - 7ms/step\n",
      "Epoch 21/50\n",
      "11/11 - 0s - loss: 0.1106 - val_loss: 0.1382 - 68ms/epoch - 6ms/step\n",
      "Epoch 22/50\n",
      "11/11 - 0s - loss: 0.1181 - val_loss: 0.1366 - 71ms/epoch - 6ms/step\n",
      "Epoch 23/50\n",
      "11/11 - 0s - loss: 0.1081 - val_loss: 0.1357 - 69ms/epoch - 6ms/step\n",
      "Epoch 24/50\n",
      "11/11 - 0s - loss: 0.1142 - val_loss: 0.1355 - 84ms/epoch - 8ms/step\n",
      "Epoch 25/50\n",
      "11/11 - 0s - loss: 0.1109 - val_loss: 0.1348 - 68ms/epoch - 6ms/step\n",
      "Epoch 26/50\n",
      "11/11 - 0s - loss: 0.1142 - val_loss: 0.1335 - 68ms/epoch - 6ms/step\n",
      "Epoch 27/50\n",
      "11/11 - 0s - loss: 0.1074 - val_loss: 0.1322 - 70ms/epoch - 6ms/step\n",
      "Epoch 28/50\n",
      "11/11 - 0s - loss: 0.1137 - val_loss: 0.1323 - 68ms/epoch - 6ms/step\n",
      "Epoch 29/50\n",
      "11/11 - 0s - loss: 0.1063 - val_loss: 0.1308 - 70ms/epoch - 6ms/step\n",
      "Epoch 30/50\n",
      "11/11 - 0s - loss: 0.1125 - val_loss: 0.1305 - 68ms/epoch - 6ms/step\n",
      "Epoch 31/50\n",
      "11/11 - 0s - loss: 0.1057 - val_loss: 0.1299 - 73ms/epoch - 7ms/step\n",
      "Epoch 32/50\n",
      "11/11 - 0s - loss: 0.1114 - val_loss: 0.1290 - 69ms/epoch - 6ms/step\n",
      "Epoch 33/50\n",
      "11/11 - 0s - loss: 0.1047 - val_loss: 0.1282 - 88ms/epoch - 8ms/step\n",
      "Epoch 34/50\n",
      "11/11 - 0s - loss: 0.1104 - val_loss: 0.1276 - 84ms/epoch - 8ms/step\n",
      "Epoch 35/50\n",
      "11/11 - 0s - loss: 0.1038 - val_loss: 0.1268 - 80ms/epoch - 7ms/step\n",
      "Epoch 36/50\n",
      "11/11 - 0s - loss: 0.1093 - val_loss: 0.1261 - 91ms/epoch - 8ms/step\n",
      "Epoch 37/50\n",
      "11/11 - 0s - loss: 0.1028 - val_loss: 0.1257 - 76ms/epoch - 7ms/step\n",
      "Epoch 38/50\n",
      "11/11 - 0s - loss: 0.1087 - val_loss: 0.1250 - 62ms/epoch - 6ms/step\n",
      "Epoch 39/50\n",
      "11/11 - 0s - loss: 0.1026 - val_loss: 0.1247 - 68ms/epoch - 6ms/step\n",
      "Epoch 40/50\n",
      "11/11 - 0s - loss: 0.1081 - val_loss: 0.1238 - 67ms/epoch - 6ms/step\n",
      "Epoch 41/50\n",
      "11/11 - 0s - loss: 0.1012 - val_loss: 0.1229 - 64ms/epoch - 6ms/step\n",
      "Epoch 42/50\n",
      "11/11 - 0s - loss: 0.1071 - val_loss: 0.1228 - 87ms/epoch - 8ms/step\n",
      "Epoch 43/50\n",
      "11/11 - 0s - loss: 0.1001 - val_loss: 0.1221 - 81ms/epoch - 7ms/step\n",
      "Epoch 44/50\n",
      "11/11 - 0s - loss: 0.1061 - val_loss: 0.1212 - 68ms/epoch - 6ms/step\n",
      "Epoch 45/50\n",
      "11/11 - 0s - loss: 0.0992 - val_loss: 0.1236 - 69ms/epoch - 6ms/step\n",
      "Epoch 46/50\n",
      "11/11 - 0s - loss: 0.1058 - val_loss: 0.1210 - 71ms/epoch - 6ms/step\n",
      "Epoch 47/50\n",
      "11/11 - 0s - loss: 0.0989 - val_loss: 0.1252 - 67ms/epoch - 6ms/step\n",
      "Epoch 48/50\n",
      "11/11 - 0s - loss: 0.1064 - val_loss: 0.1205 - 67ms/epoch - 6ms/step\n",
      "Epoch 49/50\n",
      "11/11 - 0s - loss: 0.1011 - val_loss: 0.1213 - 68ms/epoch - 6ms/step\n",
      "Epoch 50/50\n",
      "11/11 - 0s - loss: 0.1087 - val_loss: 0.1237 - 69ms/epoch - 6ms/step\n"
     ]
    },
    {
     "data": {
      "image/png": "[encoded data removed]",
      "text/plain": [
       "<Figure size 432x288 with 1 Axes>"
      ]
     },
     "metadata": {
      "needs_background": "light"
     },
     "output_type": "display_data"
    }
   ],
   "source": [
    "# design network\n",
    "model = Sequential()\n",
    "model.add(LSTM(64, input_shape=(train_X.shape[1], train_X.shape[2])))\n",
    "model.add(Dense(2))\n",
    "model.compile(loss='mae', optimizer='adam')\n",
    "\n",
    "# fit network\n",
    "history = model.fit(train_X, train_y, epochs=50, batch_size=72, validation_data=(test_X, test_y), verbose=2, shuffle=False)\n",
    "\n",
    "# plot history\n",
    "pyplot.plot(history.history['loss'], label='Train loss')\n",
    "pyplot.plot(history.history['val_loss'], label='Validation Loss')\n",
    "pyplot.legend()\n",
    "pyplot.show()"
   ]
  },
  {
   "cell_type": "code",
   "execution_count": 480,
   "metadata": {},
   "outputs": [
    {
     "name": "stdout",
     "output_type": "stream",
     "text": [
      "Model: \"sequential_27\"\n",
      "_________________________________________________________________\n",
      " Layer (type)                Output Shape              Param #   \n",
      "=================================================================\n",
      " lstm_28 (LSTM)              (None, 64)                17152     \n",
      "                                                                 \n",
      " dense_27 (Dense)            (None, 2)                 130       \n",
      "                                                                 \n",
      "=================================================================\n",
      "Total params: 17,282\n",
      "Trainable params: 17,282\n",
      "Non-trainable params: 0\n",
      "_________________________________________________________________\n"
     ]
    }
   ],
   "source": [
    "model.summary()"
   ]
  },
  {
   "cell_type": "code",
   "execution_count": 475,
   "metadata": {},
   "outputs": [],
   "source": [
    "import visualkeras\n",
    "visualkeras.layered_view(model).show()"
   ]
  },
  {
   "cell_type": "code",
   "execution_count": 471,
   "metadata": {},
   "outputs": [
    {
     "name": "stdout",
     "output_type": "stream",
     "text": [
      "12/12 [==============================] - 0s 1ms/step\n"
     ]
    }
   ],
   "source": [
    "# make a prediction\n",
    "yhat = model.predict(test_X)"
   ]
  },
  {
   "cell_type": "code",
   "execution_count": 472,
   "metadata": {},
   "outputs": [],
   "source": [
    "inv_yhat = scaler.inverse_transform(yhat)\n",
    "inv_y = scaler.inverse_transform(test_y)"
   ]
  },
  {
   "cell_type": "code",
   "execution_count": 484,
   "metadata": {},
   "outputs": [
    {
     "name": "stdout",
     "output_type": "stream",
     "text": [
      "mean_absolut_error 50345.6543715847\n",
      "mean_squared_error 23849780552.629097\n",
      "root_mean_squared_error 154433.74162607436\n"
     ]
    }
   ],
   "source": [
    "mse_mem = mean_squared_error(inv_y[:,0], inv_yhat[:,0])\n",
    "mae_mem = mean_absolute_error(inv_y[:,0], inv_yhat[:,0])\n",
    "rmse_mem = sqrt(mse_mem)\n",
    "\n",
    "print(\"mean_absolut_error\", mae_mem)\n",
    "print(\"mean_squared_error\", mse_mem)\n",
    "print(\"root_mean_squared_error\", rmse_mem)\n",
    "\n"
   ]
  },
  {
   "cell_type": "code",
   "execution_count": 485,
   "metadata": {},
   "outputs": [
    {
     "name": "stdout",
     "output_type": "stream",
     "text": [
      "mean_absolut_error 0.0009084099362412646\n",
      "mean_squared_error 1.4697250697495431e-06\n",
      "root_mean_squared_error 0.0012123221806720947\n"
     ]
    }
   ],
   "source": [
    "mse_cpu = mean_squared_error(inv_y[:,1], inv_yhat[:,1])\n",
    "mae_cpu = mean_absolute_error(inv_y[:,1], inv_yhat[:,1])\n",
    "rmse_cpu = sqrt(mse_cpu)\n",
    "\n",
    "print(\"mean_absolut_error\", mae_cpu)\n",
    "print(\"mean_squared_error\", mse_cpu)\n",
    "print(\"root_mean_squared_error\", rmse_cpu)\n",
    "\n"
   ]
  },
  {
   "cell_type": "code",
   "execution_count": 488,
   "metadata": {},
   "outputs": [
    {
     "data": {
      "image/png": "[encoded data removed]",
      "text/plain": [
       "<Figure size 432x288 with 1 Axes>"
      ]
     },
     "metadata": {
      "needs_background": "light"
     },
     "output_type": "display_data"
    }
   ],
   "source": [
    "pyplot.plot(inv_yhat[:,1], label='Predicted')\n",
    "pyplot.plot(inv_y[:,1], label='Expected')\n",
    "pyplot.legend()\n",
    "pyplot.show()"
   ]
  }
 ],
 "metadata": {
  "kernelspec": {
   "display_name": "Python 3.8.2 64-bit",
   "language": "python",
   "name": "python3"
  },
  "language_info": {
   "codemirror_mode": {
    "name": "ipython",
    "version": 3
   },
   "file_extension": ".py",
   "mimetype": "text/x-python",
   "name": "python",
   "nbconvert_exporter": "python",
   "pygments_lexer": "ipython3",
   "version": "3.8.2"
  },
  "orig_nbformat": 4,
  "vscode": {
   "interpreter": {
    "hash": "31f2aee4e71d21fbe5cf8b01ff0e069b9275f58929596ceb00d14d90e3e16cd6"
   }
  }
 },
 "nbformat": 4,
 "nbformat_minor": 2
}
